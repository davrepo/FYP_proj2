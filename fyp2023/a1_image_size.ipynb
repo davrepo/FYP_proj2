{
 "cells": [
  {
   "cell_type": "code",
   "execution_count": 10,
   "metadata": {},
   "outputs": [],
   "source": [
    "import os\n",
    "import glob\n",
    "from PIL import Image\n",
    "from joblib import Parallel, delayed\n",
    "from tqdm import tqdm"
   ]
  },
  {
   "cell_type": "code",
   "execution_count": 14,
   "metadata": {},
   "outputs": [
    {
     "name": "stderr",
     "output_type": "stream",
     "text": [
      "0it [00:00, ?it/s]\n"
     ]
    },
    {
     "data": {
      "text/plain": [
       "[]"
      ]
     },
     "execution_count": 14,
     "metadata": {},
     "output_type": "execute_result"
    }
   ],
   "source": [
    "def resize_image(image_path, output_folder, resize):\n",
    "    base_name = os.path.basename(image_path)\n",
    "    outpath = os.path.join(output_folder, base_name)\n",
    "    img = Image.open(image_path)\n",
    "    img = img.resize((resize[1], resize[0]), resample=Image.BILINEAR)\n",
    "    img.save(outpath)\n",
    "\n",
    "# Resize train images\n",
    "input_folder = '../data/images'\n",
    "output_folder = '../data/images_resized'\n",
    "\n",
    "# Create the output folder if it doesn't exist\n",
    "if not os.path.exists(output_folder):\n",
    "    os.makedirs(output_folder)\n",
    "\n",
    "images = glob.glob(os.path.join(input_folder, '*.png'))  # Get all images\n",
    "\n",
    "Parallel(n_jobs=12)(\n",
    "    delayed(resize_image)(\n",
    "        i,\n",
    "        output_folder,\n",
    "        (512, 512)\n",
    "    ) for i in tqdm(images)\n",
    ")"
   ]
  },
  {
   "cell_type": "code",
   "execution_count": 12,
   "metadata": {},
   "outputs": [
    {
     "name": "stdout",
     "output_type": "stream",
     "text": [
      "Number of images found: 0\n"
     ]
    },
    {
     "name": "stderr",
     "output_type": "stream",
     "text": [
      "0it [00:00, ?it/s]\n"
     ]
    },
    {
     "data": {
      "text/plain": [
       "[]"
      ]
     },
     "execution_count": 12,
     "metadata": {},
     "output_type": "execute_result"
    }
   ],
   "source": [
    "def resize_image(image_path, output_folder, resize):\n",
    "    base_name = os.path.basename(image_path)\n",
    "    outpath = os.path.join(output_folder, base_name)\n",
    "    img = Image.open(image_path)\n",
    "    img = img.resize((resize[1], resize[0]), resample=Image.BILINEAR)\n",
    "    img.save(outpath)\n",
    "    print(f\"Resized image: {image_path} -> {outpath}\")\n",
    "\n",
    "# Resize train images\n",
    "input_folder = '../data/images/imgs_part_1'\n",
    "output_folder = '../data/images_resized'\n",
    "\n",
    "# Create the output folder if it doesn't exist\n",
    "if not os.path.exists(output_folder):\n",
    "    os.makedirs(output_folder)\n",
    "\n",
    "images = glob.glob(os.path.join(input_folder, '*.png'))  # Get all images\n",
    "\n",
    "print(f\"Number of images found: {len(images)}\")\n",
    "\n",
    "Parallel(n_jobs=12)(\n",
    "    delayed(resize_image)(\n",
    "        i,\n",
    "        output_folder,\n",
    "        (512, 512)\n",
    "    ) for i in tqdm(images)\n",
    ")"
   ]
  }
 ],
 "metadata": {
  "kernelspec": {
   "display_name": "Python 3",
   "language": "python",
   "name": "python3"
  },
  "language_info": {
   "codemirror_mode": {
    "name": "ipython",
    "version": 3
   },
   "file_extension": ".py",
   "mimetype": "text/x-python",
   "name": "python",
   "nbconvert_exporter": "python",
   "pygments_lexer": "ipython3",
   "version": "3.10.10"
  },
  "orig_nbformat": 4
 },
 "nbformat": 4,
 "nbformat_minor": 2
}
