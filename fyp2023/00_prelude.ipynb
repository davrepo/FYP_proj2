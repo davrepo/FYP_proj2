{
 "cells": [
  {
   "cell_type": "code",
   "execution_count": 2,
   "metadata": {},
   "outputs": [],
   "source": [
    "import os\n",
    "import glob\n",
    "from tqdm import tqdm\n",
    "from PIL import Image, ImageFile\n",
    "from joblib import Parallel, delayed"
   ]
  },
  {
   "cell_type": "code",
   "execution_count": 10,
   "metadata": {},
   "outputs": [
    {
     "name": "stdout",
     "output_type": "stream",
     "text": [
      "['PAT_1020_111_593.png', 'PAT_1065_276_231.png', 'PAT_1243_836_47.png', 'PAT_1299_1055_591.png', 'PAT_1670_3007_105.png', 'PAT_2043_4308_681.png', 'PAT_36_50_14.png', 'PAT_639_3676_760.png', 'PAT_782_1493_140.png', 'PAT_999_20_540.png', 'PAT_212_326_597.png', 'PAT_301_649_533.png', 'PAT_334_703_907.png', 'PAT_388_787_818.png', 'PAT_510_959_985.png', 'PAT_561_1068_557.png', 'PAT_618_1174_596.png', 'PAT_747_1408_965.png', 'PAT_771_1490_334.png', 'PAT_782_1492_890.png', 'PAT_109_868_113.png', 'PAT_109_868_723.png', 'PAT_115_1138_870.png', 'PAT_115_1138_970.png', 'PAT_233_354_828.png', 'PAT_233_354_935.png', 'PAT_262_402_14.png', 'PAT_262_402_265.png', 'PAT_270_417_257.png', 'PAT_270_417_728.png', 'PAT_320_681_410.png', 'PAT_320_681_724.png', 'PAT_333_702_840.png', 'PAT_340_714_314.png', 'PAT_340_714_68.png', 'PAT_433_852_20.png', 'PAT_45_66_822.png', 'PAT_486_929_274.png', 'PAT_486_929_317.png', 'PAT_495_941_26.png', 'PAT_611_1158_156.png', 'PAT_614_1166_885.png', 'PAT_622_1185_922.png', 'PAT_656_1246_483.png', 'PAT_656_1246_489.png', 'PAT_680_1289_182.png', 'PAT_680_1289_585.png', 'PAT_691_1312_389.png', 'PAT_70_107_155.png', 'PAT_70_107_591.png', 'PAT_710_1330_243.png', 'PAT_717_1347_899.png', 'PAT_719_1361_160.png', 'PAT_719_1361_234.png', 'PAT_746_1407_708.png', 'PAT_754_1429_380.png', 'PAT_801_1518_574.png', 'PAT_801_1518_78.png', 'PAT_884_1683_538.png', 'PAT_890_1693_454.png', 'PAT_890_1693_904.png', 'PAT_894_1679_640.png', 'PAT_895_1699_872.png', 'PAT_902_1718_852.png', 'PAT_936_1772_886.png', 'PAT_949_1802_582.png', 'PAT_966_1825_546.png', 'PAT_966_1825_584.png', 'PAT_972_1843_756.png', 'PAT_975_1834_152.png', 'PAT_995_1867_165.png', 'PAT_995_1867_5.png', 'PAT_1148_542_708.png', 'PAT_1219_764_111.png', 'PAT_1242_826_903.png', 'PAT_1388_3513_146.png', 'PAT_1682_3052_873.png', 'PAT_1903_3791_14.png', 'PAT_471_909_353.png', 'PAT_672_1272_705.png', 'PAT_892_1691_881.png', 'PAT_958_1812_62.png', 'PAT_108_161_878.png', 'PAT_296_640_206.png', 'PAT_349_724_750.png', 'PAT_771_1488_562.png', 'PAT_857_1627_310.png', 'PAT_859_1638_598.png', 'PAT_888_1685_268.png', 'PAT_908_1726_939.png', 'PAT_924_1757_704.png', 'PAT_978_1844_599.png', 'PAT_107_160_609.png', 'PAT_166_3672_759.png', 'PAT_181_832_158.png', 'PAT_194_298_367.png', 'PAT_194_298_945.png', 'PAT_256_295_583.png', 'PAT_265_1371_303.png', 'PAT_267_1258_693.png', 'PAT_270_1382_561.png', 'PAT_270_1387_430.png', 'PAT_343_717_927.png', 'PAT_354_1814_153.png', 'PAT_354_1814_619.png', 'PAT_354_1814_726.png', 'PAT_354_1817_500.png', 'PAT_373_2598_235.png', 'PAT_373_2598_514.png', 'PAT_411_815_692.png', 'PAT_419_2768_910.png', 'PAT_482_2928_201.png', 'PAT_504_953_569.png', 'PAT_532_3216_633.png', 'PAT_544_3299_671.png', 'PAT_59_46_537.png', 'PAT_616_1169_3.png', 'PAT_625_1184_412.png', 'PAT_625_1184_994.png', 'PAT_649_1233_229.png', 'PAT_650_3858_329.png', 'PAT_701_1321_156.png', 'PAT_701_4056_457.png', 'PAT_715_1339_508.png', \"PAT_738_1552_502'.png\", 'PAT_738_1552_502.png', 'PAT_738_1552_843.png', 'PAT_819_1541_727.png', 'PAT_851_4520_743.png', 'PAT_87_133_391.png', 'PAT_87_133_810.png', 'PAT_893_1697_613.png', 'PAT_90_219_648.png', 'PAT_939_1791_329.png', 'PAT_93_361_203.png', 'PAT_93_361_231.png', 'PAT_93_361_467.png', 'PAT_93_361_51.png', 'PAT_93_361_53.png']\n"
     ]
    }
   ],
   "source": [
    "# find all filenames in the folder ../data/masks_subtypes\n",
    "# put those filenames into a list\n",
    "\n",
    "folder_path = '../data/masks_subtypes'\n",
    "subfolders = ['ACK', 'BCC', 'MEL', 'NEV', 'SCC', 'SEK']\n",
    "file_list = []\n",
    "\n",
    "if os.path.exists(folder_path):\n",
    "    for subfolder in subfolders:\n",
    "        subfolder_path = os.path.join(folder_path, subfolder)\n",
    "        if os.path.exists(subfolder_path):\n",
    "            for root, dirs, files in os.walk(subfolder_path):\n",
    "                for file in files:\n",
    "                    file_list.append(os.path.basename(file))\n",
    "        else:\n",
    "            print(f\"Subfolder '{subfolder}' does not exist.\")\n",
    "else:\n",
    "    print(f\"Folder path '{folder_path}' does not exist.\")\n",
    "\n",
    "print(file_list)"
   ]
  },
  {
   "cell_type": "code",
   "execution_count": 11,
   "metadata": {},
   "outputs": [],
   "source": [
    "# in ../data/images folder, only keep the images that are in the file_list and delete the rest\n",
    "folder_path = '../data/images'\n",
    "\n",
    "if os.path.exists(folder_path):\n",
    "    for root, dirs, files in os.walk(folder_path):\n",
    "        for file in files:\n",
    "            file_path = os.path.join(root, file)\n",
    "            filename = os.path.basename(file)\n",
    "            if filename not in file_list:\n",
    "                os.remove(file_path)\n",
    "else:\n",
    "    print(f\"Folder path '{folder_path}' does not exist.\")"
   ]
  }
 ],
 "metadata": {
  "kernelspec": {
   "display_name": "Python 3",
   "language": "python",
   "name": "python3"
  },
  "language_info": {
   "codemirror_mode": {
    "name": "ipython",
    "version": 3
   },
   "file_extension": ".py",
   "mimetype": "text/x-python",
   "name": "python",
   "nbconvert_exporter": "python",
   "pygments_lexer": "ipython3",
   "version": "3.10.10"
  },
  "orig_nbformat": 4
 },
 "nbformat": 4,
 "nbformat_minor": 2
}
