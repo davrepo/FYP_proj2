{
 "cells": [
  {
   "cell_type": "code",
   "execution_count": 1,
   "metadata": {},
   "outputs": [],
   "source": [
    "import pandas as pd\n",
    "import numpy as np\n",
    "from skimage import io, color, feature\n",
    "from skimage.transform import resize\n",
    "\n",
    "import os\n",
    "import pandas as pd\n",
    "import numpy as np\n",
    "from skimage import io, color, feature, transform\n",
    "from sklearn.decomposition import PCA\n",
    "from sklearn.neighbors import KNeighborsClassifier\n",
    "from sklearn.model_selection import train_test_split\n",
    "from sklearn.metrics import accuracy_score\n",
    "\n",
    "from skimage import io, color, feature, transform\n",
    "from sklearn.decomposition import PCA\n",
    "from sklearn.neighbors import KNeighborsClassifier\n",
    "from sklearn.model_selection import train_test_split\n",
    "from sklearn.metrics import accuracy_score, precision_score, recall_score"
   ]
  },
  {
   "cell_type": "code",
   "execution_count": 2,
   "metadata": {},
   "outputs": [
    {
     "name": "stderr",
     "output_type": "stream",
     "text": [
      "c:\\Users\\jackh\\AppData\\Local\\Programs\\Python\\Python310\\lib\\site-packages\\skimage\\feature\\_basic_features.py:22: FutureWarning: Automatic detection of the color channel was deprecated in v0.19, and `channel_axis=None` will be the new default in v0.21. Set `channel_axis=-1` explicitly to silence this warning.\n",
      "  gaussian_filtered = filters.gaussian(img, sigma, preserve_range=False)\n"
     ]
    }
   ],
   "source": [
    "selected_images = pd.read_csv('../data/selected_images.csv')\n",
    "\n",
    "def apply_mask(image, mask):\n",
    "    if len(mask.shape) > 2:\n",
    "        mask = color.rgb2gray(mask)\n",
    "        mask = mask.astype(bool)\n",
    "\n",
    "    if len(image.shape) > 2:\n",
    "        for i in range(image.shape[2]):\n",
    "            image[:,:,i] = np.where(mask, image[:,:,i], 0)\n",
    "    else:\n",
    "        image = np.where(mask, image, 0)\n",
    "    return image\n",
    "\n",
    "images = []\n",
    "features = []\n",
    "\n",
    "chunk_size = 50  \n",
    "num_chunks = len(selected_images) // chunk_size + (len(selected_images) % chunk_size != 0)\n",
    "\n",
    "min_feature_length = None\n",
    "\n",
    "for chunk in range(num_chunks):\n",
    "\n",
    "    chunk_features = []  \n",
    "\n",
    "    for _, row in selected_images.iloc[chunk * chunk_size : (chunk + 1) * chunk_size].iterrows():\n",
    "        image = io.imread(f\"../data/images_resized/{row['img_id']}\")\n",
    "        mask = io.imread(f\"../data/shanon_masks_total/{row['img_id']}\")\n",
    "\n",
    "        image = apply_mask(image, mask)\n",
    "\n",
    "        image = resize(image, (image.shape[0]//2, image.shape[1]//2))\n",
    "\n",
    "        feature_matrix = feature.multiscale_basic_features(image)\n",
    "        feature_matrix = feature_matrix.reshape(-1)  \n",
    "\n",
    "        if min_feature_length is None or feature_matrix.size < min_feature_length:\n",
    "            min_feature_length = feature_matrix.size\n",
    "\n",
    "        chunk_features.append(feature_matrix)\n",
    "\n",
    "    chunk_features = [f[:min_feature_length] for f in chunk_features]\n",
    "\n",
    "    chunk_features = np.array(chunk_features)\n",
    "\n",
    "    np.save(f'chunk_{chunk}_features.npy', chunk_features)"
   ]
  },
  {
   "cell_type": "code",
   "execution_count": 3,
   "metadata": {},
   "outputs": [
    {
     "name": "stdout",
     "output_type": "stream",
     "text": [
      "Validation Accuracy: 0.6363636363636364\n",
      "Test Accuracy: 0.5714285714285714\n",
      "Validation Precision: 0.5\n",
      "Test Precision: 0.42857142857142855\n",
      "Validation Recall: 0.5\n",
      "Test Recall: 0.2727272727272727\n"
     ]
    }
   ],
   "source": [
    "\n",
    "all_features = []\n",
    "for chunk in range(num_chunks):\n",
    "    chunk_features = np.load(f'chunk_{chunk}_features.npy')\n",
    "    all_features.append(chunk_features)\n",
    "\n",
    "all_features = np.concatenate(all_features)\n",
    "\n",
    "pca = PCA(n_components=7)\n",
    "pca_features = pca.fit_transform(all_features)\n",
    "\n",
    "diagnostics = np.where(selected_images['diagnostic'] == 'MEL', 1, 0)\n",
    "\n",
    "patient_ids = selected_images['patient_id'].values\n",
    "X_train_val, X_test, y_train_val, y_test = train_test_split(\n",
    "    pca_features, diagnostics, test_size=0.2, random_state=42, stratify=diagnostics, shuffle=True)\n",
    "\n",
    "X_train, X_val, y_train, y_val = train_test_split(\n",
    "    X_train_val, y_train_val, test_size=0.2, random_state=42, stratify=y_train_val, shuffle=True)\n",
    "\n",
    "knn = KNeighborsClassifier(n_neighbors=5)\n",
    "knn.fit(X_train, y_train)\n",
    "\n",
    "y_val_pred = knn.predict(X_val)\n",
    "\n",
    "val_accuracy = accuracy_score(y_val, y_val_pred)\n",
    "val_precision = precision_score(y_val, y_val_pred)\n",
    "val_recall = recall_score(y_val, y_val_pred)\n",
    "\n",
    "y_test_pred = knn.predict(X_test)\n",
    "\n",
    "test_accuracy = accuracy_score(y_test, y_test_pred)\n",
    "test_precision = precision_score(y_test, y_test_pred)\n",
    "test_recall = recall_score(y_test, y_test_pred)\n",
    "\n",
    "print(\"Validation Accuracy:\", val_accuracy)\n",
    "print(\"Test Accuracy:\", test_accuracy)\n",
    "print(\"Validation Precision:\", val_precision)\n",
    "print(\"Test Precision:\", test_precision)\n",
    "print(\"Validation Recall:\", val_recall)\n",
    "print(\"Test Recall:\", test_recall)"
   ]
  },
  {
   "cell_type": "code",
   "execution_count": 4,
   "metadata": {},
   "outputs": [
    {
     "name": "stdout",
     "output_type": "stream",
     "text": [
      "Total number of features: 138\n"
     ]
    }
   ],
   "source": [
    "total_features = all_features.shape[0]\n",
    "print(\"Total number of features:\", total_features)"
   ]
  }
 ],
 "metadata": {
  "kernelspec": {
   "display_name": "Python 3",
   "language": "python",
   "name": "python3"
  },
  "language_info": {
   "codemirror_mode": {
    "name": "ipython",
    "version": 3
   },
   "file_extension": ".py",
   "mimetype": "text/x-python",
   "name": "python",
   "nbconvert_exporter": "python",
   "pygments_lexer": "ipython3",
   "version": "3.10.10"
  },
  "orig_nbformat": 4
 },
 "nbformat": 4,
 "nbformat_minor": 2
}
