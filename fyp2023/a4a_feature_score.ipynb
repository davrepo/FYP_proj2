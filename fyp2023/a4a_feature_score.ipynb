{
 "cells": [
  {
   "cell_type": "code",
   "execution_count": 3,
   "metadata": {},
   "outputs": [],
   "source": [
    "import pandas as pd\n",
    "import numpy as np\n",
    "import matplotlib.pyplot as plt\n",
    "from sklearn.feature_selection import SelectKBest\n",
    "from sklearn.feature_selection import chi2\n",
    "from sklearn.preprocessing import MinMaxScaler\n",
    "from sklearn.feature_selection import SelectKBest, f_classif"
   ]
  },
  {
   "cell_type": "code",
   "execution_count": 12,
   "metadata": {},
   "outputs": [
    {
     "name": "stdout",
     "output_type": "stream",
     "text": [
      "                 Feature  F-value Score\n",
      "1            asymmetry_2       7.438728\n",
      "0            asymmetry_1       6.869203\n",
      "3      color_asymmetry_1       4.208461\n",
      "2    border_irregularity       1.866221\n",
      "4      color_asymmetry_2       0.566287\n",
      "5       texture_contrast       0.307614\n",
      "6  texture_dissemilarity       0.136719\n"
     ]
    }
   ],
   "source": [
    "data = pd.read_csv('feature_output_normalized.csv') \n",
    "\n",
    "X = data[['asymmetry_1', 'asymmetry_2', 'border_irregularity', 'color_asymmetry_1', \n",
    "        'color_asymmetry_2', 'texture_contrast', 'texture_dissemilarity']]\n",
    "\n",
    "data['diagnostic'] = data['diagnostic'].apply(lambda x: 1 if x == 'MEL' else 0)\n",
    "y = data['diagnostic'].values\n",
    "\n",
    "\n",
    "f_scores, p_values = f_classif(X, y)\n",
    "\n",
    "feature_scores = pd.DataFrame({'Feature': X.columns, 'F-value Score': f_scores})\n",
    "\n",
    "feature_scores = feature_scores.sort_values('F-value Score', ascending=False)\n",
    "print(feature_scores)\n"
   ]
  }
 ],
 "metadata": {
  "kernelspec": {
   "display_name": "Python 3",
   "language": "python",
   "name": "python3"
  },
  "language_info": {
   "codemirror_mode": {
    "name": "ipython",
    "version": 3
   },
   "file_extension": ".py",
   "mimetype": "text/x-python",
   "name": "python",
   "nbconvert_exporter": "python",
   "pygments_lexer": "ipython3",
   "version": "3.10.10"
  },
  "orig_nbformat": 4
 },
 "nbformat": 4,
 "nbformat_minor": 2
}
