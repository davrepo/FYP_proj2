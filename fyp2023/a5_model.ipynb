{
 "cells": [
  {
   "cell_type": "code",
   "execution_count": 2,
   "metadata": {},
   "outputs": [],
   "source": [
    "from sklearn.model_selection import train_test_split\n",
    "from sklearn.neighbors import KNeighborsClassifier\n",
    "from sklearn.model_selection import GroupKFold\n",
    "from sklearn.model_selection import GroupShuffleSplit\n",
    "from sklearn.decomposition import PCA\n",
    "from sklearn.metrics import accuracy_score, precision_score, recall_score\n",
    "from tensorflow.keras import backend as K\n",
    "import pandas as pd\n",
    "import numpy as np\n",
    "\n",
    "from tensorflow.keras.models import Sequential\n",
    "from tensorflow.keras.layers import Dense"
   ]
  },
  {
   "attachments": {},
   "cell_type": "markdown",
   "metadata": {},
   "source": [
    "KNN model: ensure that all rows with the same patient_id stay together"
   ]
  },
  {
   "cell_type": "code",
   "execution_count": 3,
   "metadata": {},
   "outputs": [],
   "source": [
    "data = pd.read_csv('feature_output_normalized.csv')\n",
    "\n",
    "X = data[['asymmetry_1', 'asymmetry_2', 'border_irregularity', 'color_asymmetry_1', \n",
    "            'color_asymmetry_2', 'texture_contrast', 'texture_dissemilarity']]\n",
    "data['diagnostic'] = data['diagnostic'].map({'NOT': 0, 'MEL': 1})\n",
    "y = data['diagnostic']\n",
    "\n",
    "groups = data['patient_id']\n",
    "\n",
    "gss = GroupShuffleSplit(n_splits=1, test_size=0.2, random_state=123)\n",
    "\n",
    "train_val_idx, test_idx = next(gss.split(X, y, groups))\n",
    "\n",
    "X_train_val, X_test = X.iloc[train_val_idx], X.iloc[test_idx]\n",
    "y_train_val, y_test = y.iloc[train_val_idx], y.iloc[test_idx]\n",
    "\n",
    "gss_val = GroupShuffleSplit(n_splits=1, test_size=0.25, random_state=123)\n",
    "\n",
    "train_idx, val_idx = next(gss_val.split(X_train_val, y_train_val, groups[train_val_idx]))\n",
    "\n",
    "X_train, X_val = X_train_val.iloc[train_idx], X_train_val.iloc[val_idx]\n",
    "y_train, y_val = y_train_val.iloc[train_idx], y_train_val.iloc[val_idx]"
   ]
  },
  {
   "attachments": {},
   "cell_type": "markdown",
   "metadata": {},
   "source": [
    "KNN-1 and KNN-5"
   ]
  },
  {
   "cell_type": "code",
   "execution_count": 4,
   "metadata": {},
   "outputs": [
    {
     "name": "stdout",
     "output_type": "stream",
     "text": [
      "KNN-1 validation accuracy:  0.64\n",
      "KNN-1 test accuracy:  0.48148148148148145\n",
      "KNN-1 validation precision:  0.4\n",
      "KNN-1 test precision:  0.5333333333333333\n",
      "KNN-1 validation recall:  0.5714285714285714\n",
      "KNN-1 test recall:  0.5333333333333333\n",
      "KNN-5 validation accuracy:  0.64\n",
      "KNN-5 test accuracy:  0.5925925925925926\n",
      "KNN-5 validation precision:  0.25\n",
      "KNN-5 test precision:  0.7\n",
      "KNN-5 validation recall:  0.14285714285714285\n",
      "KNN-5 test recall:  0.4666666666666667\n"
     ]
    }
   ],
   "source": [
    "from sklearn.neighbors import KNeighborsClassifier\n",
    "from sklearn.metrics import accuracy_score, precision_score, recall_score\n",
    "\n",
    "knn1 = KNeighborsClassifier(n_neighbors=1)\n",
    "knn1.fit(X_train, y_train)\n",
    "\n",
    "y_val_pred_knn1 = knn1.predict(X_val)\n",
    "y_test_pred_knn1 = knn1.predict(X_test)\n",
    "\n",
    "val_accuracy_knn1 = accuracy_score(y_val, y_val_pred_knn1)\n",
    "test_accuracy_knn1 = accuracy_score(y_test, y_test_pred_knn1)\n",
    "\n",
    "val_precision_knn1 = precision_score(y_val, y_val_pred_knn1)\n",
    "test_precision_knn1 = precision_score(y_test, y_test_pred_knn1)\n",
    "\n",
    "val_recall_knn1 = recall_score(y_val, y_val_pred_knn1)\n",
    "test_recall_knn1 = recall_score(y_test, y_test_pred_knn1)\n",
    "\n",
    "print(\"KNN-1 validation accuracy: \", val_accuracy_knn1)\n",
    "print(\"KNN-1 test accuracy: \", test_accuracy_knn1)\n",
    "print(\"KNN-1 validation precision: \", val_precision_knn1)\n",
    "print(\"KNN-1 test precision: \", test_precision_knn1)\n",
    "print(\"KNN-1 validation recall: \", val_recall_knn1)\n",
    "print(\"KNN-1 test recall: \", test_recall_knn1)\n",
    "\n",
    "knn5 = KNeighborsClassifier(n_neighbors=5)\n",
    "knn5.fit(X_train, y_train)\n",
    "\n",
    "y_val_pred_knn5 = knn5.predict(X_val)\n",
    "y_test_pred_knn5 = knn5.predict(X_test)\n",
    "\n",
    "val_accuracy_knn5 = accuracy_score(y_val, y_val_pred_knn5)\n",
    "test_accuracy_knn5 = accuracy_score(y_test, y_test_pred_knn5)\n",
    "\n",
    "val_precision_knn5 = precision_score(y_val, y_val_pred_knn5)\n",
    "test_precision_knn5 = precision_score(y_test, y_test_pred_knn5)\n",
    "\n",
    "val_recall_knn5 = recall_score(y_val, y_val_pred_knn5)\n",
    "test_recall_knn5 = recall_score(y_test, y_test_pred_knn5)\n",
    "\n",
    "print(\"KNN-5 validation accuracy: \", val_accuracy_knn5)\n",
    "print(\"KNN-5 test accuracy: \", test_accuracy_knn5)\n",
    "print(\"KNN-5 validation precision: \", val_precision_knn5)\n",
    "print(\"KNN-5 test precision: \", test_precision_knn5)\n",
    "print(\"KNN-5 validation recall: \", val_recall_knn5)\n",
    "print(\"KNN-5 test recall: \", test_recall_knn5)\n"
   ]
  },
  {
   "attachments": {},
   "cell_type": "markdown",
   "metadata": {},
   "source": [
    "Shallow neural network with one hidden layer\n"
   ]
  },
  {
   "cell_type": "code",
   "execution_count": 5,
   "metadata": {},
   "outputs": [
    {
     "name": "stdout",
     "output_type": "stream",
     "text": [
      "1/1 [==============================] - 0s 76ms/step\n",
      "1/1 [==============================] - 0s 21ms/step\n",
      "Neural Network validation accuracy:  0.72\n",
      "Neural Network test accuracy:  0.4444444444444444\n",
      "Neural Network validation precision:  0.0\n",
      "Neural Network test precision:  0.0\n",
      "Neural Network validation recall:  0.0\n",
      "Neural Network test recall:  0.0\n"
     ]
    },
    {
     "name": "stderr",
     "output_type": "stream",
     "text": [
      "c:\\Users\\jackh\\AppData\\Local\\Programs\\Python\\Python310\\lib\\site-packages\\sklearn\\metrics\\_classification.py:1334: UndefinedMetricWarning: Precision is ill-defined and being set to 0.0 due to no predicted samples. Use `zero_division` parameter to control this behavior.\n",
      "  _warn_prf(average, modifier, msg_start, len(result))\n",
      "c:\\Users\\jackh\\AppData\\Local\\Programs\\Python\\Python310\\lib\\site-packages\\sklearn\\metrics\\_classification.py:1334: UndefinedMetricWarning: Precision is ill-defined and being set to 0.0 due to no predicted samples. Use `zero_division` parameter to control this behavior.\n",
      "  _warn_prf(average, modifier, msg_start, len(result))\n"
     ]
    }
   ],
   "source": [
    "def recall_m(y_true, y_pred):\n",
    "    true_positives = K.sum(K.round(K.clip(y_true * y_pred, 0, 1)))\n",
    "    possible_positives = K.sum(K.round(K.clip(y_true, 0, 1)))\n",
    "    recall = true_positives / (possible_positives + K.epsilon())\n",
    "    return recall\n",
    "\n",
    "def precision_m(y_true, y_pred):\n",
    "    true_positives = K.sum(K.round(K.clip(y_true * y_pred, 0, 1)))\n",
    "    predicted_positives = K.sum(K.round(K.clip(y_pred, 0, 1)))\n",
    "    precision = true_positives / (predicted_positives + K.epsilon())\n",
    "    return precision\n",
    "\n",
    "model = Sequential()\n",
    "model.add(Dense(32, input_dim=X_train.shape[1], activation='relu')) \n",
    "model.add(Dense(1, activation='sigmoid')) \n",
    "\n",
    "model.compile(loss='binary_crossentropy', optimizer='adam', metrics=['accuracy', precision_m, recall_m])\n",
    "\n",
    "model.fit(X_train, y_train, validation_data=(X_val, y_val), epochs=50, batch_size=32, verbose=0)\n",
    "\n",
    "y_val_pred_nn = (model.predict(X_val) > 0.5).astype('int32')\n",
    "y_test_pred_nn = (model.predict(X_test) > 0.5).astype('int32')\n",
    "\n",
    "val_accuracy_nn = accuracy_score(y_val, y_val_pred_nn)\n",
    "test_accuracy_nn = accuracy_score(y_test, y_test_pred_nn)\n",
    "\n",
    "val_precision_nn = precision_score(y_val, y_val_pred_nn)\n",
    "test_precision_nn = precision_score(y_test, y_test_pred_nn)\n",
    "\n",
    "val_recall_nn = recall_score(y_val, y_val_pred_nn)\n",
    "test_recall_nn = recall_score(y_test, y_test_pred_nn)\n",
    "\n",
    "print(\"Neural Network validation accuracy: \", val_accuracy_nn)\n",
    "print(\"Neural Network test accuracy: \", test_accuracy_nn)\n",
    "print(\"Neural Network validation precision: \", val_precision_nn)\n",
    "print(\"Neural Network test precision: \", test_precision_nn)\n",
    "print(\"Neural Network validation recall: \", val_recall_nn)\n",
    "print(\"Neural Network test recall: \", test_recall_nn)"
   ]
  },
  {
   "attachments": {},
   "cell_type": "markdown",
   "metadata": {},
   "source": [
    "Decision Tree"
   ]
  },
  {
   "cell_type": "code",
   "execution_count": 13,
   "metadata": {},
   "outputs": [
    {
     "name": "stdout",
     "output_type": "stream",
     "text": [
      "Training Set:\n",
      "Accuracy: 0.872093023255814\n",
      "Precision: 0.88\n",
      "Recall: 0.7333333333333333\n",
      "\n",
      "Test Set:\n",
      "Accuracy: 0.5925925925925926\n",
      "Precision: 0.6666666666666666\n",
      "Recall: 0.5333333333333333\n"
     ]
    }
   ],
   "source": [
    "clf = DecisionTreeClassifier(random_state=0, max_depth=5)\n",
    "clf.fit(X_train, y_train)\n",
    "\n",
    "y_train_pred = clf.predict(X_train)\n",
    "train_accuracy = accuracy_score(y_train, y_train_pred)\n",
    "train_precision = precision_score(y_train, y_train_pred)\n",
    "train_recall = recall_score(y_train, y_train_pred)\n",
    "\n",
    "y_test_pred = clf.predict(X_test)\n",
    "test_accuracy = accuracy_score(y_test, y_test_pred)\n",
    "test_precision = precision_score(y_test, y_test_pred)\n",
    "test_recall = recall_score(y_test, y_test_pred)\n",
    "\n",
    "print(\"Training Set:\")\n",
    "print(\"Accuracy:\", train_accuracy)\n",
    "print(\"Precision:\", train_precision)\n",
    "print(\"Recall:\", train_recall)\n",
    "\n",
    "print(\"\\nTest Set:\")\n",
    "print(\"Accuracy:\", test_accuracy)\n",
    "print(\"Precision:\", test_precision)\n",
    "print(\"Recall:\", test_recall)"
   ]
  },
  {
   "attachments": {},
   "cell_type": "markdown",
   "metadata": {},
   "source": [
    "KNN-5 with top scoring features only"
   ]
  },
  {
   "cell_type": "code",
   "execution_count": null,
   "metadata": {},
   "outputs": [
    {
     "name": "stdout",
     "output_type": "stream",
     "text": [
      "KNN-5 with selected features validation accuracy:  0.76\n",
      "KNN-5 with selected features test accuracy:  0.7407407407407407\n",
      "KNN-5 with selected features validation precision:  0.6\n",
      "KNN-5 with selected features test precision:  0.8333333333333334\n",
      "KNN-5 with selected features validation recall:  0.42857142857142855\n",
      "KNN-5 with selected features test recall:  0.6666666666666666\n"
     ]
    }
   ],
   "source": [
    "selected_features = ['asymmetry_1', 'asymmetry_2', 'color_asymmetry_1', 'border_irregularity']\n",
    "X_train_selected = X_train[selected_features]\n",
    "X_val_selected = X_val[selected_features]\n",
    "X_test_selected = X_test[selected_features]\n",
    "\n",
    "knn5 = KNeighborsClassifier(n_neighbors=5)\n",
    "knn5.fit(X_train_selected, y_train)\n",
    "\n",
    "y_val_pred_knn5 = knn5.predict(X_val_selected)\n",
    "y_test_pred_knn5 = knn5.predict(X_test_selected)\n",
    "\n",
    "val_accuracy_knn5 = accuracy_score(y_val, y_val_pred_knn5)\n",
    "test_accuracy_knn5 = accuracy_score(y_test, y_test_pred_knn5)\n",
    "\n",
    "val_precision_knn5 = precision_score(y_val, y_val_pred_knn5)\n",
    "test_precision_knn5 = precision_score(y_test, y_test_pred_knn5)\n",
    "\n",
    "val_recall_knn5 = recall_score(y_val, y_val_pred_knn5)\n",
    "test_recall_knn5 = recall_score(y_test, y_test_pred_knn5)\n",
    "\n",
    "print(\"KNN-5 with selected features validation accuracy: \", val_accuracy_knn5)\n",
    "print(\"KNN-5 with selected features test accuracy: \", test_accuracy_knn5)\n",
    "print(\"KNN-5 with selected features validation precision: \", val_precision_knn5)\n",
    "print(\"KNN-5 with selected features test precision: \", test_precision_knn5)\n",
    "print(\"KNN-5 with selected features validation recall: \", val_recall_knn5)\n",
    "print(\"KNN-5 with selected features test recall: \", test_recall_knn5)\n"
   ]
  },
  {
   "attachments": {},
   "cell_type": "markdown",
   "metadata": {},
   "source": [
    "Decision tree with top scoring features only"
   ]
  },
  {
   "cell_type": "code",
   "execution_count": 14,
   "metadata": {},
   "outputs": [
    {
     "name": "stdout",
     "output_type": "stream",
     "text": [
      "Training Set (Selected Features Only):\n",
      "Accuracy: 0.872093023255814\n",
      "Precision: 0.88\n",
      "Recall: 0.7333333333333333\n",
      "\n",
      "Test Set (Selected Features Only):\n",
      "Accuracy: 0.5925925925925926\n",
      "Precision: 0.6666666666666666\n",
      "Recall: 0.5333333333333333\n"
     ]
    }
   ],
   "source": [
    "data = pd.read_csv('feature_output_normalized.csv')\n",
    "\n",
    "selected_features = ['asymmetry_1', 'asymmetry_2', 'color_asymmetry_1', 'border_irregularity']\n",
    "X = data[selected_features]\n",
    "data['diagnostic'] = data['diagnostic'].map({'NOT': 0, 'MEL': 1})\n",
    "y = data['diagnostic']\n",
    "\n",
    "groups = data['patient_id']\n",
    "\n",
    "gss = GroupShuffleSplit(n_splits=1, test_size=0.2, random_state=123)\n",
    "train_val_idx, test_idx = next(gss.split(X, y, groups))\n",
    "X_train_val, X_test = X.iloc[train_val_idx], X.iloc[test_idx]\n",
    "y_train_val, y_test = y.iloc[train_val_idx], y.iloc[test_idx]\n",
    "\n",
    "gss_val = GroupShuffleSplit(n_splits=1, test_size=0.25, random_state=123)\n",
    "train_idx, val_idx = next(gss_val.split(X_train_val, y_train_val, groups[train_val_idx]))\n",
    "X_train, X_val = X_train_val.iloc[train_idx], X_train_val.iloc[val_idx]\n",
    "y_train, y_val = y_train_val.iloc[train_idx], y_train_val.iloc[val_idx]\n",
    "\n",
    "clf_selected = DecisionTreeClassifier(random_state=0, max_depth=5)\n",
    "clf_selected.fit(X_train, y_train)\n",
    "\n",
    "y_train_pred_selected = clf_selected.predict(X_train)\n",
    "train_accuracy_selected = accuracy_score(y_train, y_train_pred_selected)\n",
    "train_precision_selected = precision_score(y_train, y_train_pred_selected)\n",
    "train_recall_selected = recall_score(y_train, y_train_pred_selected)\n",
    "\n",
    "y_test_pred_selected = clf_selected.predict(X_test)\n",
    "test_accuracy_selected = accuracy_score(y_test, y_test_pred_selected)\n",
    "test_precision_selected = precision_score(y_test, y_test_pred_selected)\n",
    "test_recall_selected = recall_score(y_test, y_test_pred_selected)\n",
    "\n",
    "print(\"Training Set (Selected Features Only):\")\n",
    "print(\"Accuracy:\", train_accuracy_selected)\n",
    "print(\"Precision:\", train_precision_selected)\n",
    "print(\"Recall:\", train_recall_selected)\n",
    "\n",
    "print(\"\\nTest Set (Selected Features Only):\")\n",
    "print(\"Accuracy:\", test_accuracy_selected)\n",
    "print(\"Precision:\", test_precision_selected)\n",
    "print(\"Recall:\", test_recall_selected)"
   ]
  },
  {
   "attachments": {},
   "cell_type": "markdown",
   "metadata": {},
   "source": [
    "KNN-5 with top scoring features only without validation set"
   ]
  },
  {
   "cell_type": "code",
   "execution_count": null,
   "metadata": {},
   "outputs": [
    {
     "name": "stdout",
     "output_type": "stream",
     "text": [
      "Test accuracy: 0.7407407407407407\n",
      "Confusion Matrix: \n",
      " [[10  2]\n",
      " [ 5 10]]\n"
     ]
    },
    {
     "data": {
      "image/png": "[encoded data removed]",
      "text/plain": [
       "<Figure size 1000x700 with 2 Axes>"
      ]
     },
     "metadata": {},
     "output_type": "display_data"
    }
   ],
   "source": [
    "import matplotlib.pyplot as plt\n",
    "import seaborn as sns\n",
    "from sklearn.metrics import confusion_matrix\n",
    "\n",
    "data = pd.read_csv('feature_output_normalized.csv')\n",
    "\n",
    "X = data[['asymmetry_1', 'asymmetry_2', 'border_irregularity', 'color_asymmetry_1', \n",
    "            'color_asymmetry_2', 'texture_contrast', 'texture_dissemilarity']]\n",
    "data['diagnostic'] = data['diagnostic'].map({'NOT': 0, 'MEL': 1})\n",
    "y = data['diagnostic']\n",
    "\n",
    "groups = data['patient_id']\n",
    "\n",
    "gss = GroupShuffleSplit(n_splits=1, test_size=0.2, random_state=123)\n",
    "\n",
    "train_idx, test_idx = next(gss.split(X, y, groups))\n",
    "\n",
    "X_train, X_test = X.iloc[train_idx], X.iloc[test_idx]\n",
    "y_train, y_test = y.iloc[train_idx], y.iloc[test_idx]\n",
    "\n",
    "\n",
    "selected_features = ['asymmetry_1', 'asymmetry_2', 'color_asymmetry_1', 'border_irregularity']\n",
    "X_train_selected = X_train[selected_features]\n",
    "X_test_selected = X_test[selected_features]\n",
    "\n",
    "knn5 = KNeighborsClassifier(n_neighbors=5)\n",
    "knn5.fit(X_train_selected, y_train)\n",
    "\n",
    "y_test_pred_knn5 = knn5.predict(X_test_selected)\n",
    "\n",
    "test_accuracy_knn5 = accuracy_score(y_test, y_test_pred_knn5)\n",
    "\n",
    "print(\"Test accuracy:\", test_accuracy_knn5)\n",
    "\n",
    "cm = confusion_matrix(y_test, y_test_pred_knn5)\n",
    "print(\"Confusion Matrix: \\n\", cm)\n",
    "\n",
    "plt.figure(figsize=(10,7))\n",
    "sns.heatmap(cm, annot=True, cmap='Blues')\n",
    "plt.xlabel('Predicted')\n",
    "plt.ylabel('Truth')\n",
    "plt.show()"
   ]
  },
  {
   "cell_type": "code",
   "execution_count": 1,
   "metadata": {},
   "outputs": [
    {
     "ename": "NameError",
     "evalue": "name 'knn5' is not defined",
     "output_type": "error",
     "traceback": [
      "\u001b[1;31m---------------------------------------------------------------------------\u001b[0m",
      "\u001b[1;31mNameError\u001b[0m                                 Traceback (most recent call last)",
      "\u001b[1;32mc:\\Users\\jackh\\OneDrive\\Documents\\GitHub\\Project-1\\FYP_proj2\\fyp2023\\a5_model.ipynb Cell 16\u001b[0m in \u001b[0;36m4\n\u001b[0;32m      <a href='vscode-notebook-cell:/c%3A/Users/jackh/OneDrive/Documents/GitHub/Project-1/FYP_proj2/fyp2023/a5_model.ipynb#X22sZmlsZQ%3D%3D?line=0'>1</a>\u001b[0m \u001b[39mfrom\u001b[39;00m \u001b[39msklearn\u001b[39;00m\u001b[39m.\u001b[39;00m\u001b[39mmetrics\u001b[39;00m \u001b[39mimport\u001b[39;00m roc_curve, roc_auc_score, auc\n\u001b[0;32m      <a href='vscode-notebook-cell:/c%3A/Users/jackh/OneDrive/Documents/GitHub/Project-1/FYP_proj2/fyp2023/a5_model.ipynb#X22sZmlsZQ%3D%3D?line=1'>2</a>\u001b[0m \u001b[39mfrom\u001b[39;00m \u001b[39msklearn\u001b[39;00m\u001b[39m.\u001b[39;00m\u001b[39mmetrics\u001b[39;00m \u001b[39mimport\u001b[39;00m precision_recall_curve, f1_score, accuracy_score, recall_score\n\u001b[1;32m----> <a href='vscode-notebook-cell:/c%3A/Users/jackh/OneDrive/Documents/GitHub/Project-1/FYP_proj2/fyp2023/a5_model.ipynb#X22sZmlsZQ%3D%3D?line=3'>4</a>\u001b[0m y_test_prob_knn5 \u001b[39m=\u001b[39m knn5\u001b[39m.\u001b[39mpredict_proba(X_test_selected)[:, \u001b[39m1\u001b[39m]\n\u001b[0;32m      <a href='vscode-notebook-cell:/c%3A/Users/jackh/OneDrive/Documents/GitHub/Project-1/FYP_proj2/fyp2023/a5_model.ipynb#X22sZmlsZQ%3D%3D?line=5'>6</a>\u001b[0m fpr, tpr, thresholds \u001b[39m=\u001b[39m roc_curve(y_test, y_test_prob_knn5)\n\u001b[0;32m      <a href='vscode-notebook-cell:/c%3A/Users/jackh/OneDrive/Documents/GitHub/Project-1/FYP_proj2/fyp2023/a5_model.ipynb#X22sZmlsZQ%3D%3D?line=6'>7</a>\u001b[0m roc_auc \u001b[39m=\u001b[39m auc(fpr, tpr)\n",
      "\u001b[1;31mNameError\u001b[0m: name 'knn5' is not defined"
     ]
    }
   ],
   "source": [
    "from sklearn.metrics import roc_curve, roc_auc_score, auc\n",
    "from sklearn.metrics import precision_recall_curve, f1_score, accuracy_score, recall_score\n",
    "\n",
    "y_test_prob_knn5 = knn5.predict_proba(X_test_selected)[:, 1]\n",
    "\n",
    "fpr, tpr, thresholds = roc_curve(y_test, y_test_prob_knn5)\n",
    "roc_auc = auc(fpr, tpr)\n",
    "print(\"ROC AUC:\", roc_auc)\n",
    "\n",
    "plt.figure(figsize=(7,5))\n",
    "plt.plot(fpr, tpr, label='ROC curve (area = %0.2f)' % roc_auc)\n",
    "plt.plot([0, 1], [0, 1], 'k--')  # random predictions curve\n",
    "plt.xlim([0.0, 1.0])\n",
    "plt.ylim([0.0, 1.05])\n",
    "plt.xlabel('False Positive Rate or (1 - Specifity)')\n",
    "plt.ylabel('True Positive Rate or (Sensitivity)')\n",
    "plt.title('Receiver Operating Characteristic')\n",
    "plt.legend(loc=\"lower right\")\n",
    "plt.show()\n",
    "\n",
    "precision, recall, thresholds_pr = precision_recall_curve(y_test, y_test_prob_knn5)\n",
    "\n",
    "fscore = (2 * precision * recall) / (precision + recall)\n",
    "ix = np.argmax(fscore)\n",
    "optimal_threshold = thresholds_pr[ix]\n",
    "\n",
    "y_test_pred_optimal = np.where(y_test_prob_knn5 >= optimal_threshold, 1, 0)\n",
    "\n",
    "test_accuracy_optimal = accuracy_score(y_test, y_test_pred_optimal)\n",
    "test_recall_optimal = recall_score(y_test, y_test_pred_optimal)\n",
    "\n",
    "print(\"Optimal Threshold:\", optimal_threshold)\n",
    "print(\"Test accuracy with optimal threshold:\", test_accuracy_optimal)\n",
    "print(\"Test recall with optimal threshold:\", test_recall_optimal)\n"
   ]
  },
  {
   "cell_type": "code",
   "execution_count": null,
   "metadata": {},
   "outputs": [],
   "source": [
    "y_test_pred_optimal = np.where(y_test_prob_knn5 >= 0.4, 1, 0)\n",
    "\n",
    "test_accuracy_optimal = accuracy_score(y_test, y_test_pred_optimal)\n",
    "\n",
    "cm_optimal = confusion_matrix(y_test, y_test_pred_optimal)\n",
    "\n",
    "print(\"Test accuracy with optimal threshold:\", test_accuracy_optimal)\n",
    "print(\"Confusion Matrix with optimal threshold: \\n\", cm_optimal)\n",
    "\n",
    "plt.figure(figsize=(10,7))\n",
    "sns.heatmap(cm_optimal, annot=True, cmap='Blues')\n",
    "plt.xlabel('Predicted')\n",
    "plt.ylabel('Truth')\n",
    "plt.show()"
   ]
  }
 ],
 "metadata": {
  "kernelspec": {
   "display_name": "Python 3",
   "language": "python",
   "name": "python3"
  },
  "language_info": {
   "codemirror_mode": {
    "name": "ipython",
    "version": 3
   },
   "file_extension": ".py",
   "mimetype": "text/x-python",
   "name": "python",
   "nbconvert_exporter": "python",
   "pygments_lexer": "ipython3",
   "version": "3.10.10"
  },
  "orig_nbformat": 4
 },
 "nbformat": 4,
 "nbformat_minor": 2
}
